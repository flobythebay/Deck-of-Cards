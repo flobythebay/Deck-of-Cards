{
 "cells": [
  {
   "cell_type": "code",
   "execution_count": 26,
   "metadata": {},
   "outputs": [],
   "source": [
    "class Card:\n",
    "    \"\"\" A Card object maintains a `rank` and a `suit`. \"\"\"\n",
    "\n",
    "    _rank_to_str = {11: 'Jack', 12: 'Queen', 13: 'King', 14: 'Ace'}\n",
    "    _suit_to_str = {'C': 'Clubs', 'H': 'Hearts', 'S': 'Spades', 'D': 'Diamonds'}\n",
    "\n",
    "    def __init__(self, rank: int, suit: str):\n",
    "        \"\"\" Initialize a Card object.\n",
    "        \n",
    "        Parameters\n",
    "        ----------\n",
    "        rank : int ∈ [2, 14]\n",
    "            The rank of this card, with order 2, 3, 4, ..., 10, J, Q, K, A.\n",
    "            \n",
    "        suit : str ∈ ('C', 'H', 'S', 'D')\n",
    "            The suit of this card.\n",
    "        \"\"\"\n",
    "        assert 2 <= rank <= 14, 'Valid ranks are [2, 14] for the ranks: [2, 3, 4, 5, 6, 7, 8, 9, 10, J, Q, K, A]'\n",
    "        assert suit.upper() in {'C', 'H', 'S', 'D'}, 'Valid suits are [C, H, S, D]'\n",
    "\n",
    "        # student code goes here\n",
    "        self.rank = rank\n",
    "        self.suit = suit\n",
    "\n",
    "    def __repr__(self):\n",
    "        \"\"\" Return the string representation of this card.\n",
    "        \n",
    "        The card should be printed as \"<rank> of <suit>s\" where <rank> is the\n",
    "        rank of this card and <suit> is the suit of this card. For example, the\n",
    "        desired behavior is:\n",
    "        \n",
    "        >>> my_card = Card(4, 'D')\n",
    "        >>> my_card\n",
    "        4 of Diamonds\n",
    "        \n",
    "        >>> Card(13, 'H')\n",
    "        King of Hearts\n",
    "        \n",
    "        >>> print(Card(11, 'C'))\n",
    "        Jack of Clubs\n",
    "        \"\"\"\n",
    "        # student code goes here\n",
    "        if self.rank > 10:\n",
    "            rank_name = self._rank_to_str[self.rank]\n",
    "        else:\n",
    "            rank_name = str(self.rank)\n",
    "        return rank_name + \" of \" + self._suit_to_str[self.suit]\n",
    "\n",
    "    def __lt__(self, other):\n",
    "        \"\"\" Determine whether the rank of this card is less than the rank of the other. \"\"\"\n",
    "        # student code goes here\n",
    "        return self.rank < other.rank\n",
    "\n",
    "    def __gt__(self, other):\n",
    "        \"\"\" Determine whether the rank of this card is greater than the rank of the other. \"\"\"\n",
    "        # student code goes here\n",
    "        return self.rank > other.rank\n",
    "\n",
    "    def __le__(self, other):\n",
    "        \"\"\" Determine whether the rank of this card is less than or equal to the rank of the other. \"\"\"\n",
    "        # student code goes here\n",
    "        return self.rank <= other.rank\n",
    "\n",
    "    def __ge__(self, other):\n",
    "        \"\"\" Determine whether the rank of this card is greater than or equal to the rank of the other. \"\"\"\n",
    "        # student code goes here\n",
    "        return self.rank >= other.rank\n",
    "\n",
    "    def __eq__(self, other):\n",
    "        \"\"\" Determine whether the rank of this card is equal to the rank of the other. \"\"\"\n",
    "        # student code goes here\n",
    "        return self.rank == other.rank"
   ]
  },
  {
   "cell_type": "code",
   "execution_count": 47,
   "metadata": {},
   "outputs": [],
   "source": [
    "import random\n",
    "\n",
    "class Deck:\n",
    "    _cards = []\n",
    "    shuffled = False\n",
    "    _dealt = 0\n",
    "    \n",
    "    def shuffle(self):\n",
    "        random.shuffle(self._cards)\n",
    "              \n",
    "    def __init__(self, shuffled=False):\n",
    "        for suit in [\"C\", \"D\", \"H\", \"S\"]:\n",
    "            for rank in range(2, 15):\n",
    "                self._cards.append(Card(rank, suit))\n",
    "        if shuffled:\n",
    "            self.shuffled = shuffled\n",
    "            random.shuffle(self._cards)                     \n",
    "        self._dealt = 0\n",
    "\n",
    "    def deal_card(self):\n",
    "        if self._dealt >= 52:\n",
    "            return None\n",
    "        top_card = self._cards[self._dealt]\n",
    "        self._dealt = self._dealt + 1\n",
    "        return top_card\n",
    "        \n",
    "    def __repr__(self):\n",
    "        return \"Deck(dealt \" + str(self._dealt) + \", shuffled=\" + str(self.shuffled) + \")\"\n",
    "    \n",
    "    def reset(self):\n",
    "        self._dealt = 0\n",
    "        self.shuffled = False\n",
    "        self._cards = []\n",
    "        for suit in [\"C\", \"D\", \"H\", \"S\"]:\n",
    "            for rank in range(2, 15):\n",
    "                self._cards.append(Card(rank, suit))\n",
    "        "
   ]
  },
  {
   "cell_type": "code",
   "execution_count": 48,
   "metadata": {},
   "outputs": [
    {
     "name": "stdout",
     "output_type": "stream",
     "text": [
      "\n",
      "============================== ALL TESTS PASSED! ===============================\n",
      "Your submission code: bwf8a088b2b1cbf19866aeb09e7b47119b3f7a822a756710366584214a\n",
      "================================================================================\n",
      "\n"
     ]
    }
   ],
   "source": [
    "from bwsi_grader.python.card_games import grade_deck\n",
    "grade_deck(Deck)"
   ]
  },
  {
   "cell_type": "code",
   "execution_count": 49,
   "metadata": {},
   "outputs": [],
   "source": [
    "\n",
    "def play_high_low_game():\n",
    "    d = Deck(shuffled=True)\n",
    "    p1 = d.deal_card()\n",
    "    p2 = d.deal_card()\n",
    "    print(\"It's a tie!\" if p1 == p2 else f'Player {1 if p1 > p2 else 2} wins!')\n",
    "    print(f'Player 1 had the {p1} and Player 2 had the {p2}')"
   ]
  },
  {
   "cell_type": "code",
   "execution_count": 50,
   "metadata": {},
   "outputs": [
    {
     "name": "stdout",
     "output_type": "stream",
     "text": [
      "Player 2 wins!\n",
      "Player 1 had the 3 of Clubs and Player 2 had the King of Hearts\n"
     ]
    }
   ],
   "source": [
    "play_high_low_game()"
   ]
  },
  {
   "cell_type": "code",
   "execution_count": null,
   "metadata": {},
   "outputs": [],
   "source": []
  }
 ],
 "metadata": {
  "kernelspec": {
   "display_name": "Python 3",
   "language": "python",
   "name": "python3"
  },
  "language_info": {
   "codemirror_mode": {
    "name": "ipython",
    "version": 3
   },
   "file_extension": ".py",
   "mimetype": "text/x-python",
   "name": "python",
   "nbconvert_exporter": "python",
   "pygments_lexer": "ipython3",
   "version": "3.8.5"
  }
 },
 "nbformat": 4,
 "nbformat_minor": 4
}
